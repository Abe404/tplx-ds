{
 "cells": [
  {
   "cell_type": "code",
   "execution_count": 17,
   "metadata": {
    "collapsed": true
   },
   "outputs": [],
   "source": [
    "import numpy as np\n",
    "import pickle\n",
    "import os\n",
    "from config import config\n",
    "def unpickle(file):\n",
    "    with open(file, 'rb') as f:\n",
    "        dict = pickle.load(f, encoding='bytes')\n",
    "    return dict"
   ]
  },
  {
   "cell_type": "code",
   "execution_count": 27,
   "metadata": {
    "collapsed": false
   },
   "outputs": [],
   "source": [
    "cifarpath = config['paths']['cifardatapath']\n",
    "test_folder = config['dataset_details']['test_set']\n",
    "train_data = []\n",
    "train_labels = []\n",
    "if os.path.exists(cifarpath):\n",
    "    if len(os.listdir(cifarpath))>0:\n",
    "        for x in os.listdir(cifarpath):\n",
    "            if 'data' in x and x != test_folder:\n",
    "                current_data = unpickle(os.path.join(cifarpath,x))\n",
    "                train_data.extend(current_data[b'data'])\n",
    "                train_labels.extend(current_data[b'labels'])\n",
    "else:\n",
    "    print(\"Please download the data first\")\n",
    "    \n",
    "test_batch = unpickle(os.path.join(cifarpath, test_folder))\n",
    "test_data = test_batch[b'data']\n",
    "test_labels = test_batch[b'labels']"
   ]
  },
  {
   "cell_type": "code",
   "execution_count": 35,
   "metadata": {
    "collapsed": false
   },
   "outputs": [],
   "source": [
    "#analyzing batches meta\n",
    "meta_batches = unpickle(os.path.join(cifarpath, 'batches.meta'))\n",
    "class_names =[x.decode('utf-8') for x in meta_batches[b'label_names']] \n",
    "\n",
    "#mapping between int and string for recognition of labels\n",
    "#labels in the train/test are stored as integers and in batches meta as strings\n",
    "mapping_classnames = dict()\n",
    "for i,value in enumerate(class_names):\n",
    "    mapping_classnames[i] = value"
   ]
  },
  {
   "cell_type": "code",
   "execution_count": null,
   "metadata": {
    "collapsed": true
   },
   "outputs": [],
   "source": []
  }
 ],
 "metadata": {
  "kernelspec": {
   "display_name": "Python [Root]",
   "language": "python",
   "name": "Python [Root]"
  },
  "language_info": {
   "codemirror_mode": {
    "name": "ipython",
    "version": 3
   },
   "file_extension": ".py",
   "mimetype": "text/x-python",
   "name": "python",
   "nbconvert_exporter": "python",
   "pygments_lexer": "ipython3",
   "version": "3.5.2"
  }
 },
 "nbformat": 4,
 "nbformat_minor": 0
}
