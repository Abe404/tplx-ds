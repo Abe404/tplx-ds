{
 "cells": [
  {
   "cell_type": "code",
   "execution_count": 1,
   "metadata": {
    "collapsed": false
   },
   "outputs": [],
   "source": [
    "import urllib.request\n",
    "import numpy\n",
    "from config import config\n",
    "from bs4 import BeautifulSoup as bs\n",
    "import requests\n",
    "import os.path\n",
    "# config = __import__(\"config\").config"
   ]
  },
  {
   "cell_type": "code",
   "execution_count": 2,
   "metadata": {
    "collapsed": false
   },
   "outputs": [],
   "source": [
    "url = config['paths']['dataseturl']\n",
    "dataset_version = config['dataset_details']['dataset_version']\n",
    "lang = config['dataset_details']['programming_language']\n",
    "data_path = config['paths']['datapath']\n",
    "\n",
    "def download_file(url, parent_path=data_path):\n",
    "    file = url.split(\"/\")[-1]\n",
    "    save_path = parent_path + file \n",
    "    if os.path.isfile(save_path):\n",
    "        print(\"File already exists\")\n",
    "    else:\n",
    "        #assuming that data folder already exists - otherwise os.makedirs could be used, but could cause problem with permissions\n",
    "        with open(save_path, 'wb') as f:\n",
    "            url_content = requests.get(url)\n",
    "            f.write(url_content.content)\n",
    "        print(\"Download finished\")\n",
    "\n",
    "def retrieve_link(url, link_details, download):\n",
    "    #read the url \n",
    "    with urllib.request.urlopen(url) as website:\n",
    "        url_content = website.read()\n",
    "    url_content_structured = bs(url_content, 'html.parser')\n",
    "    #find all links\n",
    "    all_links = url_content_structured.find_all(\"a\", href=True)\n",
    "    #find valid links that contain specific version of CIFAR and programming language - by the text near the tag\n",
    "    valid_links = list(filter(lambda x: all(detail in x.text.lower().split(\" \") for detail in link_details), all_links))\n",
    "    if len(valid_links) ==0:\n",
    "        print(\"No links matching your needs could be found\")\n",
    "    else:\n",
    "        modified_links = []\n",
    "        for link in valid_links:\n",
    "            #unfortunately this is very specific and for this website, otherwise I wouldn't split\n",
    "            current_link = \"/\".join(url.split(\"/\")[:-1]) + \"/\" + link.get(\"href\")\n",
    "            print(\"Attempting to download %s\", current_link)\n",
    "            if download:\n",
    "                download_file(current_link)\n",
    "            else:\n",
    "                modified_links.append(current_link)\n",
    "        return modified_links\n"
   ]
  },
  {
   "cell_type": "code",
   "execution_count": null,
   "metadata": {
    "collapsed": false
   },
   "outputs": [],
   "source": []
  },
  {
   "cell_type": "code",
   "execution_count": 4,
   "metadata": {
    "collapsed": false
   },
   "outputs": [
    {
     "name": "stdout",
     "output_type": "stream",
     "text": [
      "Attempting to download %s https://www.cs.toronto.edu/~kriz/cifar-10-python.tar.gz\n",
      "Download finished\n"
     ]
    }
   ],
   "source": [
    "#long way\n",
    "###retrieve_link(url, link_details=[dataset_version, lang], download=True)\n",
    "#or\n",
    "\n",
    "links = retrieve_link(url, link_details=[dataset_version, lang], download=False)\n",
    "for link in links:\n",
    "    download_file(link)\n",
    "\n",
    "    \n",
    "#short way\n",
    "# downloadURL = config['paths']['downloadurl']\n",
    "# download_file(downloadURL)"
   ]
  },
  {
   "cell_type": "code",
   "execution_count": 6,
   "metadata": {
    "collapsed": false
   },
   "outputs": [],
   "source": [
    "import tarfile"
   ]
  },
  {
   "cell_type": "code",
   "execution_count": null,
   "metadata": {
    "collapsed": true
   },
   "outputs": [],
   "source": []
  },
  {
   "cell_type": "code",
   "execution_count": null,
   "metadata": {
    "collapsed": true
   },
   "outputs": [],
   "source": []
  },
  {
   "cell_type": "code",
   "execution_count": null,
   "metadata": {
    "collapsed": true
   },
   "outputs": [],
   "source": []
  }
 ],
 "metadata": {
  "kernelspec": {
   "display_name": "Python [Root]",
   "language": "python",
   "name": "Python [Root]"
  },
  "language_info": {
   "codemirror_mode": {
    "name": "ipython",
    "version": 3
   },
   "file_extension": ".py",
   "mimetype": "text/x-python",
   "name": "python",
   "nbconvert_exporter": "python",
   "pygments_lexer": "ipython3",
   "version": "3.5.2"
  }
 },
 "nbformat": 4,
 "nbformat_minor": 0
}
