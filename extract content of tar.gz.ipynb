{
 "cells": [
  {
   "cell_type": "code",
   "execution_count": 1,
   "metadata": {
    "collapsed": true
   },
   "outputs": [],
   "source": [
    "from config import config\n",
    "import tarfile\n",
    "import os \n"
   ]
  },
  {
   "cell_type": "code",
   "execution_count": 2,
   "metadata": {
    "collapsed": false
   },
   "outputs": [],
   "source": [
    "def extract_file(path, savepath, remove_compressed=False):\n",
    "    istar = path.endswith('.tar.gz')\n",
    "    if not istar:\n",
    "        print(\"Sorry, right now I only support unpacking tar.gz files\")\n",
    "    else:\n",
    "        with tarfile.open(path, 'r:gz') as tar:\n",
    "            tar.extractall(path=savepath)\n",
    "        print(\"Contents are extracted\")\n",
    "        if remove_compressed:\n",
    "            remove_compressed_file(path)\n",
    "\n",
    "def remove_compressed_file(path):\n",
    "    istar = path.endswith('.tar.gz')\n",
    "    if istar:\n",
    "        os.remove(path)\n",
    "        print('Removed compressed file at %s', path)"
   ]
  },
  {
   "cell_type": "code",
   "execution_count": 3,
   "metadata": {
    "collapsed": false
   },
   "outputs": [
    {
     "name": "stdout",
     "output_type": "stream",
     "text": [
      "Files already extracted\n"
     ]
    }
   ],
   "source": [
    "compressed_file_path = config['paths']['compressed_file']\n",
    "savepath = config['paths']['datapath']\n",
    "cifarpath = config['paths']['cifardatapath']\n",
    "if os.path.exists(cifarpath):\n",
    "    print('Files already extracted')\n",
    "else:\n",
    "    if os.path.exists(compressed_file_path):\n",
    "        extract_file(compressed_file_path, savepath, remove_compressed=True)\n",
    "    else:\n",
    "        print(\"File could not be extracted, because it could not be found. Please download the data first.\")\n"
   ]
  },
  {
   "cell_type": "code",
   "execution_count": null,
   "metadata": {
    "collapsed": false
   },
   "outputs": [],
   "source": []
  },
  {
   "cell_type": "code",
   "execution_count": null,
   "metadata": {
    "collapsed": true
   },
   "outputs": [],
   "source": []
  }
 ],
 "metadata": {
  "kernelspec": {
   "display_name": "Python [Root]",
   "language": "python",
   "name": "Python [Root]"
  },
  "language_info": {
   "codemirror_mode": {
    "name": "ipython",
    "version": 3
   },
   "file_extension": ".py",
   "mimetype": "text/x-python",
   "name": "python",
   "nbconvert_exporter": "python",
   "pygments_lexer": "ipython3",
   "version": "3.5.2"
  }
 },
 "nbformat": 4,
 "nbformat_minor": 0
}
