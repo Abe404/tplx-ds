{
 "cells": [
  {
   "cell_type": "code",
   "execution_count": 1,
   "metadata": {
    "collapsed": true
   },
   "outputs": [],
   "source": [
    "import numpy as np\n",
    "import pickle\n",
    "import os\n",
    "from config import config\n",
    "\n",
    "#function from https://www.cs.toronto.edu/~kriz/cifar.html\n",
    "def unpickle(file):\n",
    "    with open(file, 'rb') as f:\n",
    "        dict = pickle.load(f, encoding='bytes')\n",
    "    return dict"
   ]
  },
  {
   "cell_type": "code",
   "execution_count": 2,
   "metadata": {
    "collapsed": false
   },
   "outputs": [],
   "source": [
    "cifarpath = config['paths']['cifardatapath']\n",
    "test_folder = config['dataset_details']['test_set']\n",
    "train_data = []\n",
    "train_labels = []\n",
    "if os.path.exists(cifarpath):\n",
    "    if len(os.listdir(cifarpath))>0:\n",
    "        for x in os.listdir(cifarpath):\n",
    "            if 'data' in x and x != test_folder:\n",
    "                current_data = unpickle(os.path.join(cifarpath,x))\n",
    "                train_data.extend(current_data[b'data'])\n",
    "                train_labels.extend(current_data[b'labels'])\n",
    "else:\n",
    "    print(\"Please download the data first\")\n",
    "train_data = np.array(train_data)\n",
    "train_labels = np.array(train_labels)\n",
    "test_batch = unpickle(os.path.join(cifarpath, test_folder))\n",
    "test_data = np.array(test_batch[b'data'])\n",
    "test_labels = np.array(test_batch[b'labels'])"
   ]
  },
  {
   "cell_type": "code",
   "execution_count": 3,
   "metadata": {
    "collapsed": false
   },
   "outputs": [],
   "source": [
    "#analyzing batches meta\n",
    "meta_batches = unpickle(os.path.join(cifarpath, 'batches.meta'))\n",
    "class_names =[x.decode('utf-8') for x in meta_batches[b'label_names']] \n",
    "\n",
    "#mapping between int and string for recognition of labels\n",
    "#labels in the train/test are stored as integers and in batches meta as strings\n",
    "mapping_classnames = dict()\n",
    "for i,value in enumerate(class_names):\n",
    "    mapping_classnames[i] = value"
   ]
  },
  {
   "cell_type": "code",
   "execution_count": 25,
   "metadata": {
    "collapsed": false
   },
   "outputs": [
    {
     "name": "stdout",
     "output_type": "stream",
     "text": [
      "Before 50000 items. Now 5000 items\n"
     ]
    }
   ],
   "source": [
    "#now restrict the dataset \n",
    "\n",
    "#first - analysis of label distribution in the training set\n",
    "import pandas as pd\n",
    "import random\n",
    "\n",
    "percent_of_dataset = 0.1\n",
    "train_labels_pd = pd.Series(train_labels)\n",
    "\n",
    "#ok, we see that the distribution is even, so we can take 10% from each label\n",
    "restricted_train_data = []\n",
    "restricted_train_labels = []\n",
    "for label in list(mapping_classnames.keys()):\n",
    "    indices_of_label = np.where(train_labels == label)[0]\n",
    "    #now take percent_of_dataset random indices\n",
    "    number_to_take = int(len(indices_of_label)*percent_of_dataset)\n",
    "    random.seed(42)\n",
    "    random.shuffle(indices_of_label)\n",
    "#     random_subset = np.random.choice(indices_of_label, size=number_to_take, replace=False)\n",
    "    random_subset = indices_of_label[:number_to_take]\n",
    "    restricted_train_data.extend(train_data[random_subset])\n",
    "    restricted_train_labels.extend(train_labels[random_subset])\n",
    "\n",
    "print(\"Before {} items. Now {} items\".format(len(train_data),len(restricted_train_data)))\n",
    "#check whether it is indeed 500 for each \n",
    "# for label in list(mapping_classnames.keys()):\n",
    "#     print(len(np.where(np.array(restricted_train_labels) == label)[0]))\n"
   ]
  },
  {
   "cell_type": "code",
   "execution_count": 26,
   "metadata": {
    "collapsed": false
   },
   "outputs": [],
   "source": [
    "import pickle\n",
    "path_to_restricted_dataset = config['paths']['restricted_dataset_path']\n",
    "restricted_data_dict = {}\n",
    "restricted_data_dict[\"data\"] = restricted_train_data\n",
    "restricted_data_dict[\"labels\"] = restricted_train_labels\n",
    "with open(path_to_restricted_dataset, 'wb') as f: \n",
    "    pickle.dump(restricted_data_dict, f)"
   ]
  },
  {
   "cell_type": "code",
   "execution_count": 27,
   "metadata": {
    "collapsed": false
   },
   "outputs": [
    {
     "name": "stdout",
     "output_type": "stream",
     "text": [
      "['airplane', 'automobile', 'bird', 'cat', 'deer', 'dog', 'frog', 'horse', 'ship', 'truck']\n"
     ]
    }
   ],
   "source": [
    "#save to file\n"
   ]
  },
  {
   "cell_type": "code",
   "execution_count": null,
   "metadata": {
    "collapsed": true
   },
   "outputs": [],
   "source": []
  }
 ],
 "metadata": {
  "kernelspec": {
   "display_name": "Python [Root]",
   "language": "python",
   "name": "Python [Root]"
  },
  "language_info": {
   "codemirror_mode": {
    "name": "ipython",
    "version": 3
   },
   "file_extension": ".py",
   "mimetype": "text/x-python",
   "name": "python",
   "nbconvert_exporter": "python",
   "pygments_lexer": "ipython3",
   "version": "3.5.2"
  }
 },
 "nbformat": 4,
 "nbformat_minor": 0
}
