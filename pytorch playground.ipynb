{
 "cells": [
  {
   "cell_type": "code",
   "execution_count": 1,
   "metadata": {
    "collapsed": false
   },
   "outputs": [],
   "source": [
    "from config import config\n",
    "import skimage\n",
    "import pickle\n",
    "import torch\n",
    "import torch.nn as nn\n",
    "import numpy as np\n",
    "import torchvision\n",
    "from torchvision import datasets, models, transforms\n",
    "import matplotlib.pyplot as plt\n",
    "import time\n",
    "import os\n",
    "from torch.utils.data import Dataset, DataLoader\n",
    "import copy\n",
    "import time\n",
    "from sklearn.manifold import TSNE\n",
    "from data_handling import unpickle\n",
    "from image_feature_extraction import load_images, reshape_images, even_instances\n",
    "from cnn_codes import retrieve_cnn_codes"
   ]
  },
  {
   "cell_type": "code",
   "execution_count": 2,
   "metadata": {
    "collapsed": false
   },
   "outputs": [
    {
     "name": "stdout",
     "output_type": "stream",
     "text": [
      "The shape of train data:  (5000, 3072)\n"
     ]
    }
   ],
   "source": [
    "#load the data \n",
    "#this process can be automated since I am also using it in a different file - #TODO\n",
    "path_to_restrained_dataset = config['paths']['restricted_dataset_path']\n",
    "train_data, train_labels, test_data, test_labels = load_images(path_to_restrained_dataset)\n",
    "# make sure every class has the same number of instances\n",
    "train_data, train_labels = even_instances(train_data, train_labels, limit=500)\n",
    "\n",
    "print(\"The shape of train data: \", train_data.shape)\n",
    "n_channels =3\n",
    "#length of width and height of each image\n",
    "size_image = 32\n",
    "train_data = reshape_images(train_data, size_image, n_channels)\n"
   ]
  },
  {
   "cell_type": "markdown",
   "metadata": {},
   "source": [
    "### Convert the initial dataset to the format acceptably by Pytorch"
   ]
  },
  {
   "cell_type": "code",
   "execution_count": 3,
   "metadata": {
    "collapsed": false
   },
   "outputs": [],
   "source": [
    "#introdcing the data\n",
    "#normalization values taken from this thread: https://github.com/kuangliu/pytorch-cifar/issues/19\n",
    "transform = transforms.Compose([\n",
    "        transforms.ToPILImage(),\n",
    "        transforms.Resize(224),\n",
    "        transforms.ToTensor(),\n",
    "        transforms.Normalize((0.4914, 0.4822, 0.4465), \n",
    "                             (0.247, 0.243, 0.261))\n",
    "        \n",
    "    ])\n",
    "\n",
    "class restrictedCIFAR10(Dataset):\n",
    "    def __init__(self, data, transform=transform):\n",
    "\n",
    "        self.data = data\n",
    "        self.transform = transform\n",
    "        \n",
    "    def __len__(self):\n",
    "        return self.data.shape[0]\n",
    "    \n",
    "    def __getitem__(self, idx):\n",
    "        image = self.data[idx,:]\n",
    "        sample = image\n",
    "\n",
    "        if self.transform:\n",
    "            sample = self.transform(image.astype(np.uint8))\n",
    "\n",
    "        return sample\n",
    "\n",
    "tensor_dataset = restrictedCIFAR10(train_data, transform)\n"
   ]
  },
  {
   "cell_type": "code",
   "execution_count": 4,
   "metadata": {
    "collapsed": false
   },
   "outputs": [],
   "source": [
    "dataLoader = DataLoader(tensor_dataset, batch_size=1, num_workers=3)"
   ]
  },
  {
   "cell_type": "markdown",
   "metadata": {},
   "source": [
    "## Pre-trained network\n",
    "In this part of the assignment, I will be using the pre-trained network VGG-19. Below, there is a representation of its structure. The steps of proceeding are as follows:\n",
    "- first load a pre-trained VGG-19 network\n",
    "- remove the last layer which is usually used for classification\n",
    "- pass the images through the pre-trained network to obtain their feature representation\n",
    "\n",
    "Unfortunately, this notebook is barely working and cannot even load the pre-trained model without timeout issues. Thus, the code is transferred to python file called \"cnn_codes.py\". The resulting representation of the training set and the test set is saved in a serialized format for later proceedings (visualizations etc.). "
   ]
  },
  {
   "cell_type": "code",
   "execution_count": 5,
   "metadata": {
    "collapsed": false
   },
   "outputs": [],
   "source": [
    "#initialize the pre-trained model\n",
    "model_vgg19 = models.vgg19(pretrained=True)"
   ]
  },
  {
   "cell_type": "code",
   "execution_count": 6,
   "metadata": {
    "collapsed": false
   },
   "outputs": [
    {
     "name": "stdout",
     "output_type": "stream",
     "text": [
      "The structure of VGG-19 network: \n",
      "VGG(\n",
      "  (features): Sequential(\n",
      "    (0): Conv2d(3, 64, kernel_size=(3, 3), stride=(1, 1), padding=(1, 1))\n",
      "    (1): ReLU(inplace)\n",
      "    (2): Conv2d(64, 64, kernel_size=(3, 3), stride=(1, 1), padding=(1, 1))\n",
      "    (3): ReLU(inplace)\n",
      "    (4): MaxPool2d(kernel_size=2, stride=2, padding=0, dilation=1, ceil_mode=False)\n",
      "    (5): Conv2d(64, 128, kernel_size=(3, 3), stride=(1, 1), padding=(1, 1))\n",
      "    (6): ReLU(inplace)\n",
      "    (7): Conv2d(128, 128, kernel_size=(3, 3), stride=(1, 1), padding=(1, 1))\n",
      "    (8): ReLU(inplace)\n",
      "    (9): MaxPool2d(kernel_size=2, stride=2, padding=0, dilation=1, ceil_mode=False)\n",
      "    (10): Conv2d(128, 256, kernel_size=(3, 3), stride=(1, 1), padding=(1, 1))\n",
      "    (11): ReLU(inplace)\n",
      "    (12): Conv2d(256, 256, kernel_size=(3, 3), stride=(1, 1), padding=(1, 1))\n",
      "    (13): ReLU(inplace)\n",
      "    (14): Conv2d(256, 256, kernel_size=(3, 3), stride=(1, 1), padding=(1, 1))\n",
      "    (15): ReLU(inplace)\n",
      "    (16): Conv2d(256, 256, kernel_size=(3, 3), stride=(1, 1), padding=(1, 1))\n",
      "    (17): ReLU(inplace)\n",
      "    (18): MaxPool2d(kernel_size=2, stride=2, padding=0, dilation=1, ceil_mode=False)\n",
      "    (19): Conv2d(256, 512, kernel_size=(3, 3), stride=(1, 1), padding=(1, 1))\n",
      "    (20): ReLU(inplace)\n",
      "    (21): Conv2d(512, 512, kernel_size=(3, 3), stride=(1, 1), padding=(1, 1))\n",
      "    (22): ReLU(inplace)\n",
      "    (23): Conv2d(512, 512, kernel_size=(3, 3), stride=(1, 1), padding=(1, 1))\n",
      "    (24): ReLU(inplace)\n",
      "    (25): Conv2d(512, 512, kernel_size=(3, 3), stride=(1, 1), padding=(1, 1))\n",
      "    (26): ReLU(inplace)\n",
      "    (27): MaxPool2d(kernel_size=2, stride=2, padding=0, dilation=1, ceil_mode=False)\n",
      "    (28): Conv2d(512, 512, kernel_size=(3, 3), stride=(1, 1), padding=(1, 1))\n",
      "    (29): ReLU(inplace)\n",
      "    (30): Conv2d(512, 512, kernel_size=(3, 3), stride=(1, 1), padding=(1, 1))\n",
      "    (31): ReLU(inplace)\n",
      "    (32): Conv2d(512, 512, kernel_size=(3, 3), stride=(1, 1), padding=(1, 1))\n",
      "    (33): ReLU(inplace)\n",
      "    (34): Conv2d(512, 512, kernel_size=(3, 3), stride=(1, 1), padding=(1, 1))\n",
      "    (35): ReLU(inplace)\n",
      "    (36): MaxPool2d(kernel_size=2, stride=2, padding=0, dilation=1, ceil_mode=False)\n",
      "  )\n",
      "  (classifier): Sequential(\n",
      "    (0): Linear(in_features=25088, out_features=4096, bias=True)\n",
      "    (1): ReLU(inplace)\n",
      "    (2): Dropout(p=0.5)\n",
      "    (3): Linear(in_features=4096, out_features=4096, bias=True)\n",
      "    (4): ReLU(inplace)\n",
      "    (5): Dropout(p=0.5)\n",
      "    (6): Linear(in_features=4096, out_features=1000, bias=True)\n",
      "  )\n",
      ")\n"
     ]
    }
   ],
   "source": [
    "print(\"The structure of VGG-19 network: \")\n",
    "print(model_vgg19)"
   ]
  },
  {
   "cell_type": "code",
   "execution_count": 7,
   "metadata": {
    "collapsed": false
   },
   "outputs": [],
   "source": []
  },
  {
   "cell_type": "code",
   "execution_count": 8,
   "metadata": {
    "collapsed": false
   },
   "outputs": [],
   "source": []
  },
  {
   "cell_type": "code",
   "execution_count": 7,
   "metadata": {
    "collapsed": false
   },
   "outputs": [
    {
     "name": "stdout",
     "output_type": "stream",
     "text": [
      "VGG(\n",
      "  (features): Sequential(\n",
      "    (0): Conv2d(3, 64, kernel_size=(3, 3), stride=(1, 1), padding=(1, 1))\n",
      "    (1): ReLU(inplace)\n",
      "    (2): Conv2d(64, 64, kernel_size=(3, 3), stride=(1, 1), padding=(1, 1))\n",
      "    (3): ReLU(inplace)\n",
      "    (4): MaxPool2d(kernel_size=2, stride=2, padding=0, dilation=1, ceil_mode=False)\n",
      "    (5): Conv2d(64, 128, kernel_size=(3, 3), stride=(1, 1), padding=(1, 1))\n",
      "    (6): ReLU(inplace)\n",
      "    (7): Conv2d(128, 128, kernel_size=(3, 3), stride=(1, 1), padding=(1, 1))\n",
      "    (8): ReLU(inplace)\n",
      "    (9): MaxPool2d(kernel_size=2, stride=2, padding=0, dilation=1, ceil_mode=False)\n",
      "    (10): Conv2d(128, 256, kernel_size=(3, 3), stride=(1, 1), padding=(1, 1))\n",
      "    (11): ReLU(inplace)\n",
      "    (12): Conv2d(256, 256, kernel_size=(3, 3), stride=(1, 1), padding=(1, 1))\n",
      "    (13): ReLU(inplace)\n",
      "    (14): Conv2d(256, 256, kernel_size=(3, 3), stride=(1, 1), padding=(1, 1))\n",
      "    (15): ReLU(inplace)\n",
      "    (16): Conv2d(256, 256, kernel_size=(3, 3), stride=(1, 1), padding=(1, 1))\n",
      "    (17): ReLU(inplace)\n",
      "    (18): MaxPool2d(kernel_size=2, stride=2, padding=0, dilation=1, ceil_mode=False)\n",
      "    (19): Conv2d(256, 512, kernel_size=(3, 3), stride=(1, 1), padding=(1, 1))\n",
      "    (20): ReLU(inplace)\n",
      "    (21): Conv2d(512, 512, kernel_size=(3, 3), stride=(1, 1), padding=(1, 1))\n",
      "    (22): ReLU(inplace)\n",
      "    (23): Conv2d(512, 512, kernel_size=(3, 3), stride=(1, 1), padding=(1, 1))\n",
      "    (24): ReLU(inplace)\n",
      "    (25): Conv2d(512, 512, kernel_size=(3, 3), stride=(1, 1), padding=(1, 1))\n",
      "    (26): ReLU(inplace)\n",
      "    (27): MaxPool2d(kernel_size=2, stride=2, padding=0, dilation=1, ceil_mode=False)\n",
      "    (28): Conv2d(512, 512, kernel_size=(3, 3), stride=(1, 1), padding=(1, 1))\n",
      "    (29): ReLU(inplace)\n",
      "    (30): Conv2d(512, 512, kernel_size=(3, 3), stride=(1, 1), padding=(1, 1))\n",
      "    (31): ReLU(inplace)\n",
      "    (32): Conv2d(512, 512, kernel_size=(3, 3), stride=(1, 1), padding=(1, 1))\n",
      "    (33): ReLU(inplace)\n",
      "    (34): Conv2d(512, 512, kernel_size=(3, 3), stride=(1, 1), padding=(1, 1))\n",
      "    (35): ReLU(inplace)\n",
      "    (36): MaxPool2d(kernel_size=2, stride=2, padding=0, dilation=1, ceil_mode=False)\n",
      "  )\n",
      "  (classifier): Sequential(\n",
      "    (0): Linear(in_features=25088, out_features=4096, bias=True)\n",
      "    (1): ReLU(inplace)\n",
      "    (2): Dropout(p=0.5)\n",
      "    (3): Linear(in_features=4096, out_features=4096, bias=True)\n",
      "    (4): ReLU(inplace)\n",
      "    (5): Dropout(p=0.5)\n",
      "  )\n",
      ")\n"
     ]
    }
   ],
   "source": [
    "#deleting the last layer for classification\n",
    "model_vgg19.classifier = model_vgg19.classifier[:-1]\n",
    "print(model_vgg19)"
   ]
  },
  {
   "cell_type": "code",
   "execution_count": null,
   "metadata": {
    "collapsed": false
   },
   "outputs": [],
   "source": []
  },
  {
   "cell_type": "code",
   "execution_count": 10,
   "metadata": {
    "collapsed": false
   },
   "outputs": [],
   "source": [
    "#now I have to obtain the prediction for each image in the dataset\n",
    "\n"
   ]
  },
  {
   "cell_type": "code",
   "execution_count": null,
   "metadata": {
    "collapsed": false
   },
   "outputs": [],
   "source": []
  },
  {
   "cell_type": "code",
   "execution_count": 10,
   "metadata": {
    "collapsed": false
   },
   "outputs": [
    {
     "name": "stdout",
     "output_type": "stream",
     "text": [
      "0  completed in 0.022899150848388672\n",
      "100  completed in 1.5149271488189697\n",
      "200  completed in 87.10264205932617\n",
      "300  completed in 179.84032797813416\n",
      "400  completed in 280.63469195365906\n",
      "500  completed in 384.18887209892273\n",
      "600  completed in 489.10327100753784\n",
      "700  completed in 594.4060280323029\n",
      "800  completed in 700.2561349868774\n",
      "900  completed in 806.4376850128174\n",
      "1000  completed in 911.7928910255432\n",
      "1100  completed in 1017.9277491569519\n",
      "1200  completed in 1124.1144211292267\n",
      "1300  completed in 1231.3466420173645\n",
      "1400  completed in 1341.301295042038\n",
      "1500  completed in 1463.0815279483795\n",
      "1600  completed in 1568.0905771255493\n",
      "1700  completed in 1679.5088810920715\n",
      "1800  completed in 1783.9210629463196\n",
      "1900  completed in 1886.971704006195\n",
      "2000  completed in 1991.836147069931\n",
      "2100  completed in 2098.9993040561676\n",
      "2200  completed in 2206.1521611213684\n",
      "2300  completed in 2318.865352153778\n",
      "2400  completed in 2434.13338303566\n",
      "2500  completed in 2556.018520116806\n",
      "2600  completed in 2664.607913017273\n",
      "2700  completed in 2771.2997620105743\n",
      "2800  completed in 2880.667993068695\n",
      "2900  completed in 2989.0536739826202\n",
      "3000  completed in 3092.894145011902\n",
      "3100  completed in 3192.2157480716705\n",
      "3200  completed in 3297.538187980652\n",
      "3300  completed in 3401.193417072296\n",
      "3400  completed in 3505.8471319675446\n",
      "3500  completed in 3618.295371055603\n",
      "3600  completed in 3734.1395721435547\n",
      "3700  completed in 3842.3259110450745\n",
      "3800  completed in 3950.9024291038513\n",
      "3900  completed in 4065.1494250297546\n",
      "4000  completed in 4176.017014026642\n",
      "4100  completed in 4286.19812297821\n",
      "4200  completed in 4396.754580974579\n",
      "4300  completed in 4507.161648035049\n",
      "4400  completed in 4617.119339942932\n",
      "4500  completed in 4728.7480211257935\n",
      "4600  completed in 4844.152438163757\n",
      "4700  completed in 4982.543892145157\n",
      "4800  completed in 5093.365566968918\n",
      "4900  completed in 5204.6224999427795\n",
      "Extraction completed in 5453.120083093643 seconds\n"
     ]
    }
   ],
   "source": [
    "for params in model_vgg19.parameters():\n",
    "    params.requires_grad = False\n",
    "\n",
    "cnn_codes_final = retrieve_cnn_codes(dataLoader, model_vgg19, )\n",
    "# cnn_codes_inception = retrieve_cnn_codes(dataLoader, model_inception3_restricted)\n",
    "#then I have to downgrade the dimensionality to 2 and plot them "
   ]
  },
  {
   "cell_type": "code",
   "execution_count": null,
   "metadata": {
    "collapsed": false
   },
   "outputs": [],
   "source": []
  },
  {
   "cell_type": "code",
   "execution_count": 11,
   "metadata": {
    "collapsed": false
   },
   "outputs": [],
   "source": [
    "cnn_codes_normalized = np.divide(cnn_codes_final-np.mean(cnn_codes_final, axis=0), np.std(cnn_codes_final,axis=0))"
   ]
  },
  {
   "cell_type": "code",
   "execution_count": 12,
   "metadata": {
    "collapsed": false
   },
   "outputs": [],
   "source": [
    "#tsne&PCA\n",
    "from sklearn.decomposition import PCA\n",
    "\n",
    "def reduce_dimensionality(input_data, n_dim, mode):\n",
    "    if mode=='tsne':\n",
    "        reducer = TSNE(n_components=n_dim, random_state=42, verbose=2)\n",
    "    if mode=='pca':\n",
    "        reducer = PCA(n_components=n_dim, random_state=42)\n",
    "    reduced_data = reducer.fit_transform(input_data)\n",
    "    return reduced_data"
   ]
  },
  {
   "cell_type": "code",
   "execution_count": 14,
   "metadata": {
    "collapsed": false
   },
   "outputs": [],
   "source": [
    "pca_reduced = reduce_dimensionality(cnn_codes_final, 2, 'pca')\n"
   ]
  },
  {
   "cell_type": "code",
   "execution_count": 15,
   "metadata": {
    "collapsed": false
   },
   "outputs": [
    {
     "data": {
      "text/plain": [
       "<matplotlib.collections.PathCollection at 0x1a4feb2ef0>"
      ]
     },
     "execution_count": 15,
     "metadata": {},
     "output_type": "execute_result"
    },
    {
     "data": {
      "image/png": "[encoded data removed]",
      "text/plain": [
       "<matplotlib.figure.Figure at 0x1a24b3b780>"
      ]
     },
     "metadata": {},
     "output_type": "display_data"
    }
   ],
   "source": [
    "%matplotlib inline\n",
    "plt.scatter(pca_reduced[:,0], pca_reduced[:,1])"
   ]
  },
  {
   "cell_type": "code",
   "execution_count": null,
   "metadata": {
    "collapsed": false
   },
   "outputs": [],
   "source": [
    "tsne_reduced = reduce_dimensionality(cnn_codes_final, 2, 'tsne')"
   ]
  },
  {
   "cell_type": "code",
   "execution_count": null,
   "metadata": {
    "collapsed": false
   },
   "outputs": [],
   "source": [
    "plt.scatter(tsne_reduced[:,0], tsne_reduced[:,1])"
   ]
  },
  {
   "cell_type": "code",
   "execution_count": null,
   "metadata": {
    "collapsed": false
   },
   "outputs": [],
   "source": [
    "#SVM on top of the extracted CNN codes\n",
    "#and also perform grid search for the optimal parameters - \n",
    "svm = svm.SVC()"
   ]
  },
  {
   "cell_type": "code",
   "execution_count": null,
   "metadata": {
    "collapsed": true
   },
   "outputs": [],
   "source": []
  }
 ],
 "metadata": {
  "kernelspec": {
   "display_name": "Python [Root]",
   "language": "python",
   "name": "Python [Root]"
  },
  "language_info": {
   "codemirror_mode": {
    "name": "ipython",
    "version": 3
   },
   "file_extension": ".py",
   "mimetype": "text/x-python",
   "name": "python",
   "nbconvert_exporter": "python",
   "pygments_lexer": "ipython3",
   "version": "3.5.2"
  }
 },
 "nbformat": 4,
 "nbformat_minor": 0
}
